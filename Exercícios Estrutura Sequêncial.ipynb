{
 "cells": [
  {
   "cell_type": "markdown",
   "id": "6eef0ad2",
   "metadata": {},
   "source": [
    "1. Faça um Programa que mostre a mensagem \"Alo mundo\" na tela"
   ]
  },
  {
   "cell_type": "code",
   "execution_count": 2,
   "id": "effbb13c",
   "metadata": {},
   "outputs": [
    {
     "name": "stdout",
     "output_type": "stream",
     "text": [
      "Alô, mundo!\n"
     ]
    }
   ],
   "source": [
    "print('Alô, mundo!')"
   ]
  },
  {
   "cell_type": "markdown",
   "id": "20ab6a1e",
   "metadata": {},
   "source": [
    "2. Faça um Programa que peça um número e então mostre a mensagem O número informado foi [número]"
   ]
  },
  {
   "cell_type": "code",
   "execution_count": null,
   "id": "fad70d50",
   "metadata": {},
   "outputs": [],
   "source": [
    "numero = input('Digite um número: ')\n",
    "print('O número informado foi {}'.format(numero))"
   ]
  },
  {
   "cell_type": "markdown",
   "id": "fd52662d",
   "metadata": {},
   "source": [
    "3. Faça um Programa que peça dois números e imprima a soma"
   ]
  },
  {
   "cell_type": "code",
   "execution_count": null,
   "id": "428fa372",
   "metadata": {},
   "outputs": [],
   "source": [
    "numero1 = input('Digite um número: ')\n",
    "numero2 = input('Digite outro número: ')\n",
    "soma = int(numero1) + int(numero2) # string convertido para número inteiro\n",
    "print('A soma dos dois números foi {}'.format(soma))"
   ]
  },
  {
   "cell_type": "markdown",
   "id": "e45f9b22",
   "metadata": {},
   "source": [
    "4. Faça um Programa que peça as 4 notas bimestrais e mostre a média."
   ]
  },
  {
   "cell_type": "code",
   "execution_count": 14,
   "id": "02947d1c",
   "metadata": {},
   "outputs": [
    {
     "name": "stdout",
     "output_type": "stream",
     "text": [
      "Digite uma nota: 8\n",
      "Digite uma nota: 5\n",
      "Digite uma nota: 4\n",
      "Digite uma nota: 3\n",
      "Digite uma nota: 0\n",
      "A média das notas foi: 5.0\n"
     ]
    }
   ],
   "source": [
    "# nota1 = input('Digite a primeira nota: ')\n",
    "# nota2 = input('Digite a segunda nota: ')\n",
    "# nota3 = input('Digite a terceira nota: ')\n",
    "# nota4 = input('Digite a quarta nota: ')\n",
    "\n",
    "# media = (int(nota1) + int(nota2) + int(nota3) + int(nota4)) / 4\n",
    "\n",
    "# print('A média das notas foi de {}'.format(media))\n",
    "\n",
    "nota = input('Digite uma nota: ')\n",
    "notas = []\n",
    "i = 0\n",
    "while i <= 3:\n",
    "    i = i + 1\n",
    "    notas.append(nota) # soma + 1 na lista notas\n",
    "    nota = input('Digite uma nota: ')\n",
    "    \n",
    "media = int(notas[0]) + int(notas[1]) + int(notas[2]) + int(notas[3]) \n",
    "print('A média das notas foi: {}'.format(media / 4))\n"
   ]
  },
  {
   "cell_type": "markdown",
   "id": "7c0f84ff",
   "metadata": {},
   "source": [
    "5. Faça um Programa que converta metros para centímetros."
   ]
  },
  {
   "cell_type": "code",
   "execution_count": 94,
   "id": "607acf54",
   "metadata": {},
   "outputs": [
    {
     "ename": "KeyboardInterrupt",
     "evalue": "Interrupted by user",
     "output_type": "error",
     "traceback": [
      "\u001b[1;31m---------------------------------------------------------------------------\u001b[0m",
      "\u001b[1;31mKeyboardInterrupt\u001b[0m                         Traceback (most recent call last)",
      "\u001b[1;32m<ipython-input-94-f6c55aeb11da>\u001b[0m in \u001b[0;36m<module>\u001b[1;34m\u001b[0m\n\u001b[1;32m----> 1\u001b[1;33m \u001b[0mmt\u001b[0m \u001b[1;33m=\u001b[0m \u001b[0minput\u001b[0m\u001b[1;33m(\u001b[0m\u001b[1;34m'Forneça o valor em METROS: '\u001b[0m\u001b[1;33m)\u001b[0m\u001b[1;33m\u001b[0m\u001b[1;33m\u001b[0m\u001b[0m\n\u001b[0m\u001b[0;32m      2\u001b[0m \u001b[0mcm\u001b[0m \u001b[1;33m=\u001b[0m \u001b[0mint\u001b[0m\u001b[1;33m(\u001b[0m\u001b[0mmt\u001b[0m\u001b[1;33m)\u001b[0m \u001b[1;33m*\u001b[0m \u001b[1;36m100\u001b[0m\u001b[1;33m\u001b[0m\u001b[1;33m\u001b[0m\u001b[0m\n\u001b[0;32m      3\u001b[0m \u001b[0mprint\u001b[0m\u001b[1;33m(\u001b[0m\u001b[1;34m'A medida de {} metro(s) em centímetros é de {:.2} cm'\u001b[0m\u001b[1;33m.\u001b[0m\u001b[0mformat\u001b[0m\u001b[1;33m(\u001b[0m\u001b[0mmt\u001b[0m\u001b[1;33m,\u001b[0m \u001b[0mcm\u001b[0m\u001b[1;33m)\u001b[0m\u001b[1;33m)\u001b[0m\u001b[1;33m\u001b[0m\u001b[1;33m\u001b[0m\u001b[0m\n",
      "\u001b[1;32m~\\anaconda3\\lib\\site-packages\\ipykernel\\kernelbase.py\u001b[0m in \u001b[0;36mraw_input\u001b[1;34m(self, prompt)\u001b[0m\n\u001b[0;32m    858\u001b[0m                 \u001b[1;34m\"raw_input was called, but this frontend does not support input requests.\"\u001b[0m\u001b[1;33m\u001b[0m\u001b[1;33m\u001b[0m\u001b[0m\n\u001b[0;32m    859\u001b[0m             )\n\u001b[1;32m--> 860\u001b[1;33m         return self._input_request(str(prompt),\n\u001b[0m\u001b[0;32m    861\u001b[0m             \u001b[0mself\u001b[0m\u001b[1;33m.\u001b[0m\u001b[0m_parent_ident\u001b[0m\u001b[1;33m,\u001b[0m\u001b[1;33m\u001b[0m\u001b[1;33m\u001b[0m\u001b[0m\n\u001b[0;32m    862\u001b[0m             \u001b[0mself\u001b[0m\u001b[1;33m.\u001b[0m\u001b[0m_parent_header\u001b[0m\u001b[1;33m,\u001b[0m\u001b[1;33m\u001b[0m\u001b[1;33m\u001b[0m\u001b[0m\n",
      "\u001b[1;32m~\\anaconda3\\lib\\site-packages\\ipykernel\\kernelbase.py\u001b[0m in \u001b[0;36m_input_request\u001b[1;34m(self, prompt, ident, parent, password)\u001b[0m\n\u001b[0;32m    902\u001b[0m             \u001b[1;32mexcept\u001b[0m \u001b[0mKeyboardInterrupt\u001b[0m\u001b[1;33m:\u001b[0m\u001b[1;33m\u001b[0m\u001b[1;33m\u001b[0m\u001b[0m\n\u001b[0;32m    903\u001b[0m                 \u001b[1;31m# re-raise KeyboardInterrupt, to truncate traceback\u001b[0m\u001b[1;33m\u001b[0m\u001b[1;33m\u001b[0m\u001b[1;33m\u001b[0m\u001b[0m\n\u001b[1;32m--> 904\u001b[1;33m                 \u001b[1;32mraise\u001b[0m \u001b[0mKeyboardInterrupt\u001b[0m\u001b[1;33m(\u001b[0m\u001b[1;34m\"Interrupted by user\"\u001b[0m\u001b[1;33m)\u001b[0m \u001b[1;32mfrom\u001b[0m \u001b[1;32mNone\u001b[0m\u001b[1;33m\u001b[0m\u001b[1;33m\u001b[0m\u001b[0m\n\u001b[0m\u001b[0;32m    905\u001b[0m             \u001b[1;32mexcept\u001b[0m \u001b[0mException\u001b[0m \u001b[1;32mas\u001b[0m \u001b[0me\u001b[0m\u001b[1;33m:\u001b[0m\u001b[1;33m\u001b[0m\u001b[1;33m\u001b[0m\u001b[0m\n\u001b[0;32m    906\u001b[0m                 \u001b[0mself\u001b[0m\u001b[1;33m.\u001b[0m\u001b[0mlog\u001b[0m\u001b[1;33m.\u001b[0m\u001b[0mwarning\u001b[0m\u001b[1;33m(\u001b[0m\u001b[1;34m\"Invalid Message:\"\u001b[0m\u001b[1;33m,\u001b[0m \u001b[0mexc_info\u001b[0m\u001b[1;33m=\u001b[0m\u001b[1;32mTrue\u001b[0m\u001b[1;33m)\u001b[0m\u001b[1;33m\u001b[0m\u001b[1;33m\u001b[0m\u001b[0m\n",
      "\u001b[1;31mKeyboardInterrupt\u001b[0m: Interrupted by user"
     ]
    }
   ],
   "source": [
    "mt = input('Forneça o valor em METROS: ')\n",
    "cm = int(mt) * 100\n",
    "print('A medida de {} metro(s) em centímetros é de {} cm'.format(mt, cm))"
   ]
  },
  {
   "cell_type": "markdown",
   "id": "04f85b58",
   "metadata": {},
   "source": [
    "6. Faça um Programa que peça o raio de um círculo, calcule e mostre sua área"
   ]
  },
  {
   "cell_type": "code",
   "execution_count": 97,
   "id": "e174bfc6",
   "metadata": {},
   "outputs": [
    {
     "name": "stdout",
     "output_type": "stream",
     "text": [
      "Forneça o valor do círculo: 20\n",
      "O raio do círculo de valor 20 é 3.2\n"
     ]
    }
   ],
   "source": [
    "c = input('Forneça o valor do círculo: ')\n",
    "pi = 2 * 3.14\n",
    "r = int(c) / pi \n",
    "print('O raio do círculo de valor {} é {:.2}'.format(c,r))"
   ]
  },
  {
   "cell_type": "markdown",
   "id": "32d2e375",
   "metadata": {},
   "source": [
    "7. Faça um Programa que calcule a área de um quadrado, em seguida mostre o dobro desta área para o usuário"
   ]
  },
  {
   "cell_type": "code",
   "execution_count": 3,
   "id": "3b058f8c",
   "metadata": {},
   "outputs": [
    {
     "name": "stdout",
     "output_type": "stream",
     "text": [
      "Digite o valor de um dos lados de um quadrado: 50\n",
      "O cálculo da área do quadrado é de 2500 metros\n",
      "O dobro dessa área é de 5000 metros\n"
     ]
    }
   ],
   "source": [
    "lados = input('Digite o valor de um dos lados de um quadrado: ')\n",
    "area = int(lados) * int(lados)\n",
    "dobro = area * 2\n",
    "print('O cálculo da área do quadrado é de {} metros'.format(area))\n",
    "print('O dobro dessa área é de {} metros'.format(dobro))"
   ]
  },
  {
   "cell_type": "markdown",
   "id": "ba45b307",
   "metadata": {},
   "source": [
    "8. Faça um Programa que pergunte quanto você ganha por hora e o número de horas trabalhadas no mês. Calcule e mostre o\n",
    "total do seu salário no referido mês.\n"
   ]
  },
  {
   "cell_type": "code",
   "execution_count": 15,
   "id": "6e93fa62",
   "metadata": {},
   "outputs": [
    {
     "name": "stdout",
     "output_type": "stream",
     "text": [
      "Quanto você ganha por hora? 6,5\n",
      "Quantas horas por mês você trabaha? 160\n"
     ]
    },
    {
     "ename": "ValueError",
     "evalue": "could not convert string to float: '6,5'",
     "output_type": "error",
     "traceback": [
      "\u001b[1;31m---------------------------------------------------------------------------\u001b[0m",
      "\u001b[1;31mValueError\u001b[0m                                Traceback (most recent call last)",
      "\u001b[1;32m<ipython-input-15-b1829ec07bfd>\u001b[0m in \u001b[0;36m<module>\u001b[1;34m\u001b[0m\n\u001b[0;32m      2\u001b[0m \u001b[0mhoras_trabalhadas\u001b[0m \u001b[1;33m=\u001b[0m \u001b[0minput\u001b[0m\u001b[1;33m(\u001b[0m\u001b[1;34m'Quantas horas por mês você trabaha? '\u001b[0m\u001b[1;33m)\u001b[0m\u001b[1;33m\u001b[0m\u001b[1;33m\u001b[0m\u001b[0m\n\u001b[0;32m      3\u001b[0m \u001b[1;33m\u001b[0m\u001b[0m\n\u001b[1;32m----> 4\u001b[1;33m \u001b[0msalario_mes\u001b[0m \u001b[1;33m=\u001b[0m \u001b[0mfloat\u001b[0m\u001b[1;33m(\u001b[0m\u001b[0mganho_hora\u001b[0m\u001b[1;33m)\u001b[0m \u001b[1;33m*\u001b[0m \u001b[0mint\u001b[0m\u001b[1;33m(\u001b[0m\u001b[0mhoras_trabalhadas\u001b[0m\u001b[1;33m)\u001b[0m\u001b[1;33m\u001b[0m\u001b[1;33m\u001b[0m\u001b[0m\n\u001b[0m\u001b[0;32m      5\u001b[0m \u001b[0mprint\u001b[0m\u001b[1;33m(\u001b[0m\u001b[1;34m'O seu salário mensal é de R${} reais por mês'\u001b[0m\u001b[1;33m.\u001b[0m\u001b[0mformat\u001b[0m\u001b[1;33m(\u001b[0m\u001b[0msalario_mes\u001b[0m\u001b[1;33m)\u001b[0m\u001b[1;33m)\u001b[0m\u001b[1;33m\u001b[0m\u001b[1;33m\u001b[0m\u001b[0m\n",
      "\u001b[1;31mValueError\u001b[0m: could not convert string to float: '6,5'"
     ]
    }
   ],
   "source": [
    "ganho_hora = input('Quanto você ganha por hora? ')\n",
    "horas_trabalhadas = input('Quantas horas por mês você trabaha? ')\n",
    "\n",
    "salario_mes = float(ganho_hora) * int(horas_trabalhadas)\n",
    "print('O seu salário mensal é de R${} reais por mês'.format(salario_mes))"
   ]
  },
  {
   "cell_type": "markdown",
   "id": "66c82918",
   "metadata": {},
   "source": [
    "9. Faça um Programa que peça a temperatura em graus Fahrenheit, transforme e mostre a temperatura em graus Celsius.\n",
    "C = 5 * ((F-32) / 9).\n"
   ]
  },
  {
   "cell_type": "code",
   "execution_count": 20,
   "id": "b4c13233",
   "metadata": {},
   "outputs": [
    {
     "name": "stdout",
     "output_type": "stream",
     "text": [
      "Forneça os graus em Fahrenheit: 50\n",
      "A temperatura 50º Fahrenheit, convertida para Celsius, é de 10.0º Celsius\n"
     ]
    }
   ],
   "source": [
    "f = input('Forneça os graus em Fahrenheit: ')\n",
    "c = (float(f) - 32) / 9 # Conversão de str para float\n",
    "c = float(c) * 5\n",
    "print('A temperatura {}º Fahrenheit, convertida para Celsius, é de {}º Celsius'.format(f, c))"
   ]
  }
 ],
 "metadata": {
  "kernelspec": {
   "display_name": "Python 3",
   "language": "python",
   "name": "python3"
  },
  "language_info": {
   "codemirror_mode": {
    "name": "ipython",
    "version": 3
   },
   "file_extension": ".py",
   "mimetype": "text/x-python",
   "name": "python",
   "nbconvert_exporter": "python",
   "pygments_lexer": "ipython3",
   "version": "3.8.8"
  }
 },
 "nbformat": 4,
 "nbformat_minor": 5
}
